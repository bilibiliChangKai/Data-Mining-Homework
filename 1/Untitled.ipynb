{
 "cells": [
  {
   "cell_type": "code",
   "execution_count": 2,
   "metadata": {},
   "outputs": [
    {
     "name": "stdout",
     "output_type": "stream",
     "text": [
      "2*ta0 + 2*ta1*x1 + 2*ta2*x2 + 2*ta3*x3 + 2*ta4*x4 - 2*y\n",
      "2*ta0 + 2*ta1*x1 + 2*ta2*x2 + 2*ta3*x3 + 2*ta4*x4 - 2*y\n",
      "2*ta0 + 2*ta1*x1 + 2*ta2*x2 + 2*ta3*x3 + 2*ta4*x4 - 2*y\n",
      "2*ta0 + 2*ta1*x1 + 2*ta2*x2 + 2*ta3*x3 + 2*ta4*x4 - 2*y\n",
      "2*ta0 + 2*ta1*x1 + 2*ta2*x2 + 2*ta3*x3 + 2*ta4*x4 - 2*y\n"
     ]
    },
    {
     "data": {
      "text/plain": [
       "-186"
      ]
     },
     "execution_count": 2,
     "metadata": {},
     "output_type": "execute_result"
    }
   ],
   "source": [
    "import numpy as np\n",
    "import pandas as pd\n",
    "from sympy import *\n",
    "\n",
    "# select a column as y\n",
    "def setY(df, columnname):\n",
    "    df.insert(len(df.columns), 'y', df[columnname])\n",
    "    del df[columnname]\n",
    "\n",
    "# return arg symbols\n",
    "def initArg(n, tag='x'):\n",
    "    if tag == 'x':\n",
    "        string = \"\"\n",
    "    else:\n",
    "        string = tag + \"0\"\n",
    "    for i in range(n):\n",
    "        string += \" \" + tag + str(i + 1)\n",
    "    return symbols(string)\n",
    "\n",
    "# return the linear regression\n",
    "def initFunc(tas, xs):\n",
    "    func = tas[0]\n",
    "    for i in range(len(xs)):\n",
    "        func = func + tas[i + 1] * xs[i]\n",
    "    return func\n",
    "\n",
    "# return the single line J(theta)\n",
    "def initSingleJta(func, y):\n",
    "    return (func - y) ** 2\n",
    "\n",
    "# calculate the J(theta)‘s differential coefficient in tai\n",
    "def calcDiffCoe(singleJta, xs, tas_v, y, i, df, alfa=1):\n",
    "    m = len(df)\n",
    "    n = len(df.columns)\n",
    "    lists = [calcSingCoe(singleJta, xs, tas_v, y, i, df.iloc[j]) for j in range(m)]\n",
    "    sumvalue = sum(lists)\n",
    "    return alfa * sumvalue / m\n",
    "\n",
    "def calcSingCoe(singleJta, xs, tas_v, y, i, arr):\n",
    "    Jta_coe = diff(singleJta, tas_v[i][0])\n",
    "    print Jta_coe\n",
    "    # replace arguments\n",
    "    for x_v in zip(xs, arr):\n",
    "        Jta_coe = Jta_coe.subs(x_v[0], x_v[1])\n",
    "    for ta_v in tas_v:\n",
    "        Jta_coe = Jta_coe.subs(ta_v[0], ta_v[1])\n",
    "    Jta_coe = Jta_coe.subs(y, arr[-1])\n",
    "    return Jta_coe\n",
    "\n",
    "tas = initArg(4, 'ta')\n",
    "xs = initArg(4)\n",
    "y = Symbol('y')\n",
    "hta_x = initFunc(tas, xs)\n",
    "jta_x = initSingleJta(hta_x, y)\n",
    "\n",
    "df = pd.read_csv(\"1.csv\")\n",
    "setY(df, 'm')\n",
    "calcDiffCoe(jta_x, xs, zip(tas, np.zeros(5, float)), y, 0, df)"
   ]
  },
  {
   "cell_type": "code",
   "execution_count": 58,
   "metadata": {},
   "outputs": [
    {
     "data": {
      "text/plain": [
       "2*x1*(ta0 + ta2*x2 + 5*x1 - y)"
      ]
     },
     "execution_count": 58,
     "metadata": {},
     "output_type": "execute_result"
    }
   ],
   "source": [
    "jta_x_coe = diff(sjta_x, tas[1])\n",
    "jta_x_coe.subs(tas[1], 5)"
   ]
  },
  {
   "cell_type": "code",
   "execution_count": null,
   "metadata": {},
   "outputs": [],
   "source": [
    "x1=Symbol(\"x1\")\n",
    "x2=Symbol(\"x2\")\n",
    "y = x1**3+x2**3\n",
    "z = y + y\n",
    "t=diff(y,x1)\n",
    "z.subs(x1, 3)"
   ]
  },
  {
   "cell_type": "code",
   "execution_count": 6,
   "metadata": {},
   "outputs": [
    {
     "name": "stdout",
     "output_type": "stream",
     "text": [
      "    m   p   c   e  ch\n",
      "0  89  87  72  83  90\n",
      "1  91  89  76  88  93\n",
      "2  93  89  74  82  91\n",
      "3  95  92  71  91  89\n",
      "4  97  93  76  89  94\n"
     ]
    },
    {
     "data": {
      "text/plain": [
       "8501.8"
      ]
     },
     "execution_count": 6,
     "metadata": {},
     "output_type": "execute_result"
    }
   ],
   "source": [
    "df = pd.read_csv(\"1.csv\")\n",
    "print df\n",
    "arr = df.iloc[0]\n",
    "df.insert(len(df.columns), 'y', df['m'])\n",
    "del df['m']\n",
    "s = 0\n",
    "for i in range(len(df)):\n",
    "    temp = df.iloc[i]\n",
    "    s += temp['ch'] * temp['y']\n",
    "float(s) / 5"
   ]
  }
 ],
 "metadata": {
  "kernelspec": {
   "display_name": "Python 2",
   "language": "python",
   "name": "python2"
  },
  "language_info": {
   "codemirror_mode": {
    "name": "ipython",
    "version": 2
   },
   "file_extension": ".py",
   "mimetype": "text/x-python",
   "name": "python",
   "nbconvert_exporter": "python",
   "pygments_lexer": "ipython2",
   "version": "2.7.14"
  }
 },
 "nbformat": 4,
 "nbformat_minor": 2
}
