{
 "cells": [
  {
   "cell_type": "code",
   "execution_count": 1,
   "metadata": {},
   "outputs": [
    {
     "name": "stdout",
     "output_type": "stream",
     "text": [
      "2*ta0 + 2*ta1*x1 + 2*ta2*x2 + 2*ta3*x3 + 2*ta4*x4 - 2*y\n",
      "2*ta0 + 2*ta1*x1 + 2*ta2*x2 + 2*ta3*x3 + 2*ta4*x4 - 2*y\n",
      "2*ta0 + 2*ta1*x1 + 2*ta2*x2 + 2*ta3*x3 + 2*ta4*x4 - 2*y\n",
      "2*ta0 + 2*ta1*x1 + 2*ta2*x2 + 2*ta3*x3 + 2*ta4*x4 - 2*y\n",
      "2*ta0 + 2*ta1*x1 + 2*ta2*x2 + 2*ta3*x3 + 2*ta4*x4 - 2*y\n"
     ]
    },
    {
     "data": {
      "text/plain": [
       "-186"
      ]
     },
     "execution_count": 1,
     "metadata": {},
     "output_type": "execute_result"
    }
   ],
   "source": [
    "import numpy as np\n",
    "import pandas as pd\n",
    "from sympy import *\n",
    "\n",
    "def normalize(df):\n",
    "    newdf = pd.DataFrame()\n",
    "    for f in df.columns:\n",
    "        newdf[f] = map(lambda x: float(x - df[f].mean()) / (df[f].max() - df[f].min()), df[f])\n",
    "    return newdf\n",
    "\n",
    "# select a column as y\n",
    "def setY(df, columnname):\n",
    "    df.insert(len(df.columns), 'y', df[columnname])\n",
    "    del df[columnname]\n",
    "\n",
    "# return arg symbols\n",
    "def initArg(n, tag='x'):\n",
    "    if tag == 'x':\n",
    "        string = \"\"\n",
    "    else:\n",
    "        string = tag + \"0\"\n",
    "    for i in range(n):\n",
    "        string += \" \" + tag + str(i + 1)\n",
    "    return symbols(string)\n",
    "\n",
    "# return the linear regression\n",
    "def initFunc(tas, xs):\n",
    "    func = tas[0]\n",
    "    for i in range(len(xs)):\n",
    "        func = func + tas[i + 1] * xs[i]\n",
    "    return func\n",
    "\n",
    "# return the single line J(theta)\n",
    "def initSingleJta(func, y):\n",
    "    return (func - y) ** 2\n",
    "\n",
    "# calculate the J(theta)‘s differential coefficient in tai\n",
    "def calcDiffCoe(singleJta, xs, tas_v, y, i, df, alfa=1):\n",
    "    m = len(df)\n",
    "    n = len(df.columns)\n",
    "    lists = [calcSingCoe(singleJta, xs, tas_v, y, i, df.iloc[j]) for j in range(m)]\n",
    "    sumvalue = sum(lists)\n",
    "    return alfa * sumvalue / m\n",
    "\n",
    "def calcSingCoe(singleJta, xs, tas_v, y, i, arr):\n",
    "    Jta_coe = diff(singleJta, tas_v[i][0])\n",
    "    print Jta_coe\n",
    "    # replace arguments\n",
    "    for x_v in zip(xs, arr):\n",
    "        Jta_coe = Jta_coe.subs(x_v[0], x_v[1])\n",
    "    for ta_v in tas_v:\n",
    "        Jta_coe = Jta_coe.subs(ta_v[0], ta_v[1])\n",
    "    Jta_coe = Jta_coe.subs(y, arr[-1])\n",
    "    return Jta_coe\n",
    "\n",
    "tas = initArg(4, 'ta')\n",
    "xs = initArg(4)\n",
    "y = Symbol('y')\n",
    "hta_x = initFunc(tas, xs)\n",
    "jta_x = initSingleJta(hta_x, y)\n",
    "\n",
    "df = pd.read_csv(\"1.csv\")\n",
    "setY(df, 'm')\n",
    "calcDiffCoe(jta_x, xs, zip(tas, np.zeros(5, float)), y, 0, df)"
   ]
  },
  {
   "cell_type": "code",
   "execution_count": 58,
   "metadata": {},
   "outputs": [
    {
     "data": {
      "text/plain": [
       "2*x1*(ta0 + ta2*x2 + 5*x1 - y)"
      ]
     },
     "execution_count": 58,
     "metadata": {},
     "output_type": "execute_result"
    }
   ],
   "source": [
    "jta_x_coe = diff(sjta_x, tas[1])\n",
    "jta_x_coe.subs(tas[1], 5)"
   ]
  },
  {
   "cell_type": "code",
   "execution_count": null,
   "metadata": {},
   "outputs": [],
   "source": [
    "x1=Symbol(\"x1\")\n",
    "x2=Symbol(\"x2\")\n",
    "y = x1**3+x2**3\n",
    "z = y + y\n",
    "t=diff(y,x1)\n",
    "z.subs(x1, 3)"
   ]
  },
  {
   "cell_type": "code",
   "execution_count": 5,
   "metadata": {},
   "outputs": [
    {
     "name": "stdout",
     "output_type": "stream",
     "text": [
      "    p   c   e  ch   y\n",
      "0  87  72  83  90  89\n",
      "1  89  76  88  93  91\n",
      "2  89  74  82  91  93\n",
      "3  92  71  91  89  95\n",
      "4  93  76  89  94  97\n",
      "90.0\n"
     ]
    },
    {
     "data": {
      "text/html": [
       "<div>\n",
       "<style scoped>\n",
       "    .dataframe tbody tr th:only-of-type {\n",
       "        vertical-align: middle;\n",
       "    }\n",
       "\n",
       "    .dataframe tbody tr th {\n",
       "        vertical-align: top;\n",
       "    }\n",
       "\n",
       "    .dataframe thead th {\n",
       "        text-align: right;\n",
       "    }\n",
       "</style>\n",
       "<table border=\"1\" class=\"dataframe\">\n",
       "  <thead>\n",
       "    <tr style=\"text-align: right;\">\n",
       "      <th></th>\n",
       "      <th>p</th>\n",
       "      <th>c</th>\n",
       "      <th>e</th>\n",
       "      <th>ch</th>\n",
       "      <th>y</th>\n",
       "    </tr>\n",
       "  </thead>\n",
       "  <tbody>\n",
       "    <tr>\n",
       "      <th>0</th>\n",
       "      <td>-0.500000</td>\n",
       "      <td>-0.36</td>\n",
       "      <td>-0.400000</td>\n",
       "      <td>-0.28</td>\n",
       "      <td>-0.50</td>\n",
       "    </tr>\n",
       "    <tr>\n",
       "      <th>1</th>\n",
       "      <td>-0.166667</td>\n",
       "      <td>0.44</td>\n",
       "      <td>0.155556</td>\n",
       "      <td>0.32</td>\n",
       "      <td>-0.25</td>\n",
       "    </tr>\n",
       "    <tr>\n",
       "      <th>2</th>\n",
       "      <td>-0.166667</td>\n",
       "      <td>0.04</td>\n",
       "      <td>-0.511111</td>\n",
       "      <td>-0.08</td>\n",
       "      <td>0.00</td>\n",
       "    </tr>\n",
       "    <tr>\n",
       "      <th>3</th>\n",
       "      <td>0.333333</td>\n",
       "      <td>-0.56</td>\n",
       "      <td>0.488889</td>\n",
       "      <td>-0.48</td>\n",
       "      <td>0.25</td>\n",
       "    </tr>\n",
       "    <tr>\n",
       "      <th>4</th>\n",
       "      <td>0.500000</td>\n",
       "      <td>0.44</td>\n",
       "      <td>0.266667</td>\n",
       "      <td>0.52</td>\n",
       "      <td>0.50</td>\n",
       "    </tr>\n",
       "  </tbody>\n",
       "</table>\n",
       "</div>"
      ],
      "text/plain": [
       "          p     c         e    ch     y\n",
       "0 -0.500000 -0.36 -0.400000 -0.28 -0.50\n",
       "1 -0.166667  0.44  0.155556  0.32 -0.25\n",
       "2 -0.166667  0.04 -0.511111 -0.08  0.00\n",
       "3  0.333333 -0.56  0.488889 -0.48  0.25\n",
       "4  0.500000  0.44  0.266667  0.52  0.50"
      ]
     },
     "execution_count": 5,
     "metadata": {},
     "output_type": "execute_result"
    }
   ],
   "source": [
    "df = pd.read_csv(\"1.csv\")\n",
    "arr = df.iloc[0]\n",
    "df.insert(len(df.columns), 'y', df['m'])\n",
    "del df['m']\n",
    "s = 0\n",
    "for i in range(len(df)):\n",
    "    temp = df.iloc[i]\n",
    "    s += temp['ch'] * temp['y']\n",
    "print df\n",
    "print df['p'].mean()\n",
    "df2 = normalize(df)\n",
    "df2"
   ]
  },
  {
   "cell_type": "code",
   "execution_count": 9,
   "metadata": {},
   "outputs": [
    {
     "name": "stdout",
     "output_type": "stream",
     "text": [
      "2*x3*(ta0 + ta1*x1 + ta2*x2 + ta3*x3 + ta4*x4 - y)\n",
      "2*x3*(ta0 + ta1*x1 + ta2*x2 + ta3*x3 + ta4*x4 - y)\n",
      "2*x3*(ta0 + ta1*x1 + ta2*x2 + ta3*x3 + ta4*x4 - y)\n",
      "2*x3*(ta0 + ta1*x1 + ta2*x2 + ta3*x3 + ta4*x4 - y)\n",
      "2*x3*(ta0 + ta1*x1 + ta2*x2 + ta3*x3 + ta4*x4 - y)\n"
     ]
    },
    {
     "data": {
      "text/plain": [
       "-0.166666666666667"
      ]
     },
     "execution_count": 9,
     "metadata": {},
     "output_type": "execute_result"
    }
   ],
   "source": [
    "nordf = normalize(df)\n",
    "tas_v0 = zip(tas, np.zeros(5, float))\n",
    "calcDiffCoe(jta_x, xs, tas_v0, y, 3, nordf)"
   ]
  },
  {
   "cell_type": "code",
   "execution_count": 1,
   "metadata": {},
   "outputs": [
    {
     "data": {
      "text/plain": [
       "[1, 2, 3]"
      ]
     },
     "execution_count": 1,
     "metadata": {},
     "output_type": "execute_result"
    }
   ],
   "source": [
    "test = [(1, \"a\"), (2, \"b\"), (3, \"c\")]\n",
    "b = map(lambda x: x[0], test)"
   ]
  }
 ],
 "metadata": {
  "kernelspec": {
   "display_name": "Python 2",
   "language": "python",
   "name": "python2"
  },
  "language_info": {
   "codemirror_mode": {
    "name": "ipython",
    "version": 2
   },
   "file_extension": ".py",
   "mimetype": "text/x-python",
   "name": "python",
   "nbconvert_exporter": "python",
   "pygments_lexer": "ipython2",
   "version": "2.7.14"
  }
 },
 "nbformat": 4,
 "nbformat_minor": 2
}
